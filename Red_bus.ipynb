{
 "cells": [
  {
   "cell_type": "code",
   "execution_count": 4,
   "metadata": {},
   "outputs": [],
   "source": [
    "from selenium import webdriver\n",
    "from selenium.webdriver.common.by import By\n",
    "\n",
    "# Initialize the WebDriver (adjust the path to the driver as necessary)\n",
    "driver = webdriver.Chrome()\n",
    "\n",
    "# Open the webpage\n",
    "driver.get('https://www.redbus.in/online-booking/apsrtc/?utm_source=rtchometile')\n",
    "\n",
    "# Find the element using the class name and title\n",
    "element = driver.find_elements(By.XPATH, '//a[@class=\"route\" and @title=\"Vijayawada to Hyderabad\"]')\n",
    "\n",
    "# Extract the text and href attribute\n",
    "#element_text = element.text\n",
    "#element_href = element.get_attribute('href')\n",
    "\n",
    "#print(f'Text: {element_text}')\n",
    "#print(f'Link: {element_href}')\n",
    "\n",
    "# Close the WebDriver\n",
    "\n"
   ]
  },
  {
   "cell_type": "code",
   "execution_count": 5,
   "metadata": {},
   "outputs": [
    {
     "data": {
      "text/plain": [
       "[<selenium.webdriver.remote.webelement.WebElement (session=\"e5763f4e2ebf6ea610b88b586a4ae183\", element=\"f.E3116E382F4E6D688AA90862AADAE42F.d.9C96C81DCB4DA7395A708D358F2D74B2.e.32\")>]"
      ]
     },
     "execution_count": 5,
     "metadata": {},
     "output_type": "execute_result"
    }
   ],
   "source": [
    "element"
   ]
  },
  {
   "cell_type": "code",
   "execution_count": 14,
   "metadata": {},
   "outputs": [
    {
     "name": "stdout",
     "output_type": "stream",
     "text": [
      "success\n"
     ]
    }
   ],
   "source": [
    "from selenium import webdriver\n",
    "from selenium.webdriver.common.by import By\n",
    "from selenium.webdriver.common.action_chains import ActionChains\n",
    "from selenium.webdriver.support.ui import WebDriverWait\n",
    "from selenium.webdriver.support import expected_conditions as EC\n",
    "import time\n",
    "\n",
    "# Initialize the WebDriver (adjust the path to the driver as necessary)\n",
    "driver = webdriver.Chrome()\n",
    "\n",
    "# Open the webpage\n",
    "driver.get('https://www.redbus.in/online-booking/apsrtc/?utm_source=rtchometile')\n",
    "\n",
    "# Scroll the page until the element is in view\n",
    "\n",
    "route_list = []\n",
    "link_list = []\n",
    "try:\n",
    "   \n",
    "    SCROLL_PAUSE_TIME = 5\n",
    "\n",
    "    last_height = driver.execute_script(\"return document.body.scrollHeight\")\n",
    "\n",
    "    while True:\n",
    "        driver.execute_script(\"window.scrollTo(0, document.body.scrollHeight);\")\n",
    "\n",
    "        time.sleep(SCROLL_PAUSE_TIME)\n",
    "\n",
    "        new_height = driver.execute_script(\"return document.body.scrollHeight\")\n",
    "        if new_height == last_height:\n",
    "            break\n",
    "        last_height = new_height\n",
    "\n",
    "    elements = driver.find_elements(By.CSS_SELECTOR,'a[class = \"route\"]')\n",
    "\n",
    "    # Extract the text and href attribute\n",
    "    for element in elements:\n",
    "        route_list.append(element.text)\n",
    "    for element in elements:\n",
    "        link_list.append(element.get_attribute('href'))    \n",
    "    \n",
    "\n",
    "   \n",
    "finally:\n",
    "    # Close the WebDriver\n",
    "    print(\"success\")\n"
   ]
  },
  {
   "cell_type": "code",
   "execution_count": 15,
   "metadata": {},
   "outputs": [
    {
     "data": {
      "text/plain": [
       "['Vijayawada to Hyderabad',\n",
       " 'Hyderabad to Vijayawada',\n",
       " 'Kakinada to Visakhapatnam',\n",
       " 'Visakhapatnam to Kakinada',\n",
       " 'Chittoor (Andhra Pradesh) to Bangalore',\n",
       " 'Kadapa to Bangalore',\n",
       " 'Anantapur (andhra pradesh) to Bangalore',\n",
       " 'Tirupati to Bangalore',\n",
       " 'Visakhapatnam to Vijayawada',\n",
       " 'Ongole to Hyderabad']"
      ]
     },
     "execution_count": 15,
     "metadata": {},
     "output_type": "execute_result"
    }
   ],
   "source": [
    "route_list"
   ]
  },
  {
   "cell_type": "code",
   "execution_count": 16,
   "metadata": {},
   "outputs": [
    {
     "data": {
      "text/plain": [
       "['https://www.redbus.in/bus-tickets/vijayawada-to-hyderabad',\n",
       " 'https://www.redbus.in/bus-tickets/hyderabad-to-vijayawada',\n",
       " 'https://www.redbus.in/bus-tickets/kakinada-to-visakhapatnam',\n",
       " 'https://www.redbus.in/bus-tickets/visakhapatnam-to-kakinada',\n",
       " 'https://www.redbus.in/bus-tickets/chittoor-andhra-pradesh-to-bangalore',\n",
       " 'https://www.redbus.in/bus-tickets/kadapa-to-bangalore',\n",
       " 'https://www.redbus.in/bus-tickets/ananthapur-to-bangalore',\n",
       " 'https://www.redbus.in/bus-tickets/tirupathi-to-bangalore',\n",
       " 'https://www.redbus.in/bus-tickets/visakhapatnam-to-vijayawada',\n",
       " 'https://www.redbus.in/bus-tickets/ongole-to-hyderabad']"
      ]
     },
     "execution_count": 16,
     "metadata": {},
     "output_type": "execute_result"
    }
   ],
   "source": [
    "link_list"
   ]
  },
  {
   "cell_type": "code",
   "execution_count": 17,
   "metadata": {},
   "outputs": [
    {
     "data": {
      "text/plain": [
       "10"
      ]
     },
     "execution_count": 17,
     "metadata": {},
     "output_type": "execute_result"
    }
   ],
   "source": [
    "len(link_list)"
   ]
  }
 ],
 "metadata": {
  "kernelspec": {
   "display_name": "Python 3",
   "language": "python",
   "name": "python3"
  },
  "language_info": {
   "codemirror_mode": {
    "name": "ipython",
    "version": 3
   },
   "file_extension": ".py",
   "mimetype": "text/x-python",
   "name": "python",
   "nbconvert_exporter": "python",
   "pygments_lexer": "ipython3",
   "version": "3.12.3"
  }
 },
 "nbformat": 4,
 "nbformat_minor": 2
}
